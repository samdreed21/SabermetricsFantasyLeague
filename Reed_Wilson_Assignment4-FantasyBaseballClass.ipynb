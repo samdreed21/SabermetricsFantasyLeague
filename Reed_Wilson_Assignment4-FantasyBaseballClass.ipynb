{
 "cells": [
  {
   "cell_type": "markdown",
   "metadata": {},
   "source": [
    "## Fantasy Baseball Auction Value ##\n",
    "\n",
    "__This notebook provides the content for today's lecture, as well as an introduction to Assignment 4. The details for Assignment 4 are provided at the end of the notebook.__\n",
    "\n",
    "#### Due: Wednesday, March 20 by 3pm. ####"
   ]
  },
  {
   "cell_type": "markdown",
   "metadata": {},
   "source": [
    "Hello everyone, not Rhonda here for once (it's your CAs, Ashna and Brandon). As you've probably heard by now, we're going to be doing a fantasy baseball league in this class. The object of this assignment is to come up with some way for evaluating players. How you might ask? However you want we might reply. You've heard about WAR and wOBA and replacement value and all sorts of ways to evaluate players, and now we're going to turn it into a competition with (fake) money on it (and a prize at the end). "
   ]
  },
  {
   "cell_type": "markdown",
   "metadata": {},
   "source": [
    "#### How does fantasy baseball work?"
   ]
  },
  {
   "cell_type": "markdown",
   "metadata": {},
   "source": [
    "Fantasy baseball assigns point values to different events for real like players, such as runs, homeruns, innings pitched, etc. You can see how your leagues scoring and rosters are set up in the section below under \"You mentioned scoring?\". At the end of the competition (near the end of the semester), whatever team has the most points in each league is the winner! Ashna and I will be playing as well to give you all some competition.\n",
    "\n",
    "__The winning teams get to choose the type of cake we order on the last day of class.__"
   ]
  },
  {
   "cell_type": "markdown",
   "metadata": {},
   "source": [
    "#### How do we pick our team?"
   ]
  },
  {
   "cell_type": "markdown",
   "metadata": {},
   "source": [
    "In fantasy baseball, each player can only belong to one team (just like in real life). You will be selecting your team with a partner through an **auction draft**. In an auction draft, you'll start with \\\\$250. You'll take turns nominating a player, and then everyone will live bid on that player, just like a real life auction. The least a player can go for is \\\\$1, while the most is \\\\$250-(# roster spots - 1). You'll have to use your money wisely to build the best team possible, however you can still use waivers and trades to keep your roster competitive."
   ]
  },
  {
   "cell_type": "markdown",
   "metadata": {},
   "source": [
    "#### What are waivers?"
   ]
  },
  {
   "cell_type": "markdown",
   "metadata": {},
   "source": [
    "Waivers are where any non-rostered player is at. You can pick up players from waivers, but you'll have to drop a player from your roster to do so."
   ]
  },
  {
   "cell_type": "markdown",
   "metadata": {},
   "source": [
    "#### You mentioned scoring?"
   ]
  },
  {
   "cell_type": "markdown",
   "metadata": {},
   "source": [
    "| Batting Stat | Points | \n",
    "|--------------|--------|\n",
    "| AB           | -1.0   |\n",
    "| H            | 5.6    |\n",
    "| 2B           | 2.9    |\n",
    "| 3B           | 5.7    |\n",
    "| HR           | 9.4    |\n",
    "| BB           | 3.0    |\n",
    "| HBP          | 3.0    |\n",
    "| SB           | 1.9    |\n",
    "| CS           | -2.8   |  \n",
    "  \n",
    "| Pitching Stat | Points |\n",
    "|---------------|--------|\n",
    "| IP            | 5      |\n",
    "| K             | 2.0    |\n",
    "| BB            | -3.0   |\n",
    "| HBP           | -3.0   |\n",
    "| HR            | -13    |\n",
    "| SV            | 5.0    |\n",
    "| HLD           | 4.0    |  \n",
    "  \n",
    "| Position | Roster Spots |\n",
    "|----------|--------------|\n",
    "| C        | 1            |\n",
    "| 1B       | 1            |\n",
    "| 2B       | 1            |\n",
    "| 3B       | 1            |\n",
    "| SS       | 1            |\n",
    "| OF       | 3            |\n",
    "| UTIL     | 1            |\n",
    "| SP       | 5            |\n",
    "| RP       | 2            |\n",
    "| Bench    | 3            |  \n",
    "  \n",
    "A few notes about these settings. ESPN counts the \"IP\" stat as per out, so in the scoring settings it is 5/3=1.66, however per every other statkeeping reference, it's 5 points per IP. A 2B/3B/HR is added on to the value of a hit, so a double is worth 5.6+2.9=8.5 points. These weights are based on wOBA/FIP, adjusted to keep pitchers and batter on a reatively level playing field. OF is any outfield position. UTIL is any batter, doesn't matter the position (kind of like a DH)."
   ]
  },
  {
   "cell_type": "markdown",
   "metadata": {},
   "source": [
    "# Assignment 4 - Fantasy Baseball #\n",
    "\n",
    "### Join a league ###"
   ]
  },
  {
   "cell_type": "markdown",
   "metadata": {},
   "source": [
    "The first step in this assignment is to join a fantasy league. There are two leagues you can join that are setup specifically for this class. Both have identcal settings, so pick one.   \n",
    "http://fantasy.espn.com/baseball/league/join?leagueId=90287999&inviteId=471eac27-e559-4737-8f3e-6c13f054a6a1\n",
    "http://fantasy.espn.com/baseball/league/join?leagueId=5441683&inviteId=cf19e2aa-38d9-4886-8aa6-9465aeb58369  \n",
    "You'll need an ESPN account (free). In order to add your group-mate so that you can both control your team, go to \"My Team\" at the top of the page, and then under your team name, there's a \"Add 2nd Owner\" link. If you're having trouble with this, let one of Ashna or I know and we'll add you ourselves. "
   ]
  },
  {
   "cell_type": "markdown",
   "metadata": {},
   "source": [
    "### Design an approach to valuing players ###"
   ]
  },
  {
   "cell_type": "markdown",
   "metadata": {},
   "source": [
    "Glad you asked. Now you get to put your real baseball skills to work. Your assignment is to come up with a way to value players. You can use FanGraphs projections and base them off of that. You can look at historical data and create your own prediction model. You can use some fancy neural network or machine learning algorithm if you want to go the extra mile. It's a pretty open ended question, just at the end you need to come up with some sort of a list that says \"Player A is work \\\\$X\" for every fantasy relevant player in the league. "
   ]
  },
  {
   "cell_type": "markdown",
   "metadata": {},
   "source": [
    "#### Not entirely sure where to get started? ####"
   ]
  },
  {
   "cell_type": "markdown",
   "metadata": {},
   "source": [
    "That's fair, it's a pretty open ended task, especially if you've never done fantasy sports or an auction draft before. Here are some links to help you learn the ropes:  \n",
    "  \n",
    "[FanGraphs Fantasy Auction Calculator.](https://www.fangraphs.com/auctiontool.aspx) Now you can't just export this and turn it in, but it can be a helpful tool for knowing a general range for values.  \n",
    "  \n",
    "[A basic autcion draft overview.](https://757fantasyleague.wordpress.com/auction-draft-the-basics/) This can help you get more familiar with how an auction draft works and some of the basic strategies. You can't get every player that you want, so you need to budget you money.  \n",
    "  \n",
    "Personally, I would recommend coming up with a way to evaluate players based on the categories that we use for scoring. This should net you some expected points. Again, this can come from whatever math or form you like. Then worry about turning those point values into auction dollar values, and there are a number of ways to do that (you can do some Googling). "
   ]
  },
  {
   "cell_type": "markdown",
   "metadata": {},
   "source": [
    "#### How about some sweet hints?"
   ]
  },
  {
   "cell_type": "markdown",
   "metadata": {},
   "source": [
    "No worries, in order to help even out the playing field a bit, here are some hints that can help you in the draft.  \n",
    "1. Try to get other people to spend their money on players that you don't want but you think that other people will. You can use ESPN draft rankings you help find discrepencies between your rankings and the ones that other people will see to help with that.  \n",
    "2. There's more than one strategy to building a team. You can blow all your money on some top tier talent and fill in the rest of your team with cheap players, or build a more balanced roster. Both can work.  \n",
    "3. There's position scarcity in baseball (some positions are deeper than others), meaning that the worst 2B on a roster might put up 1.9 points a game while the worst 1B on a roster might put up 2.5. Establishing a replacement level *wink wink* for each position can help you guage which players are more valuable just becuase of the position they play. \n",
    "4. Fantasy value does not always equal real life value. We don't care about defense and players have to play to score points. There might be some great guy sitting on an MLB teams bench, but he's not going to give you fantasy points if he's only playing every third day. Here, counting stats matter.  \n",
    "5. The league is only going to last a little over a month (the last day of points scoring will be 11:59pm on April 28th), meaning that prospects or players that won't be called up until midway through the season (Vlad Jr., Eloy) aren't realy worth drafting. You're welcome to ask if you don't know who those players are."
   ]
  },
  {
   "cell_type": "markdown",
   "metadata": {},
   "source": [
    "### Submit your code and writeup ###"
   ]
  },
  {
   "cell_type": "markdown",
   "metadata": {},
   "source": [
    "The product that you produce for this assignment is a notebook that describes your approach, as well as the code that implements the approach. Your notebook needs to include the following sections and information:\n",
    "\n",
    "1. Introduction - A summary of your general approach\n",
    "2. Data and statistics - Describe the data and statistics that you used, and how they were used.\n",
    "3. Results of your approach - This section needs to include the top 5 players that your approach identifies. You also need to select one player from your top 5 and provide an analysis of his rating and monetary value.\n",
    "4. Limitations - What difficulties do you see with implementing your strategy in the draft?\n",
    "\n",
    "The draft will occur in class on March 20. Your assignment needs to be submitted before class on that day. \n",
    "\n",
    "To make grading easier, please name the notebook *Assignment4_LastName1_LastName2*, where *LastName1* and *LastName2* are the last names of the team members. Yes, you will be working in teams of two for this assignment."
   ]
  },
  {
   "cell_type": "code",
   "execution_count": 1,
   "metadata": {},
   "outputs": [],
   "source": [
    "import pandas as pd\n",
    "C_data = pd.read_csv('C_data.csv')\n",
    "B1_data = pd.read_csv('1B_data.csv')\n",
    "B2_data = pd.read_csv('2B_data.csv')\n",
    "B3_data = pd.read_csv('3B_data.csv')\n",
    "SS_data = pd.read_csv('SS_data.csv')\n",
    "RF_data = pd.read_csv('RF_data.csv')\n",
    "CF_data = pd.read_csv('CF_data.csv')\n",
    "LF_data = pd.read_csv('LF_data.csv')\n",
    "SP_data = pd.read_csv('SP_data.csv')\n",
    "RP_data = pd.read_csv('RP_data.csv')"
   ]
  },
  {
   "cell_type": "code",
   "execution_count": 2,
   "metadata": {},
   "outputs": [
    {
     "name": "stdout",
     "output_type": "stream",
     "text": [
      "Average Stats for Batters of Specific Positions\n"
     ]
    },
    {
     "data": {
      "text/html": [
       "<div>\n",
       "<style scoped>\n",
       "    .dataframe tbody tr th:only-of-type {\n",
       "        vertical-align: middle;\n",
       "    }\n",
       "\n",
       "    .dataframe tbody tr th {\n",
       "        vertical-align: top;\n",
       "    }\n",
       "\n",
       "    .dataframe thead th {\n",
       "        text-align: right;\n",
       "    }\n",
       "</style>\n",
       "<table border=\"1\" class=\"dataframe\">\n",
       "  <thead>\n",
       "    <tr style=\"text-align: right;\">\n",
       "      <th></th>\n",
       "      <th>C</th>\n",
       "      <th>1B</th>\n",
       "      <th>2B</th>\n",
       "      <th>3B</th>\n",
       "      <th>SS</th>\n",
       "      <th>RF</th>\n",
       "      <th>CF</th>\n",
       "      <th>LF</th>\n",
       "    </tr>\n",
       "  </thead>\n",
       "  <tbody>\n",
       "    <tr>\n",
       "      <th>AB</th>\n",
       "      <td>336.918919</td>\n",
       "      <td>429.041667</td>\n",
       "      <td>439.931818</td>\n",
       "      <td>427.595745</td>\n",
       "      <td>458.268293</td>\n",
       "      <td>407.259259</td>\n",
       "      <td>440.090909</td>\n",
       "      <td>425.117647</td>\n",
       "    </tr>\n",
       "    <tr>\n",
       "      <th>H</th>\n",
       "      <td>81.864865</td>\n",
       "      <td>107.937500</td>\n",
       "      <td>115.613636</td>\n",
       "      <td>110.702128</td>\n",
       "      <td>119.731707</td>\n",
       "      <td>106.925926</td>\n",
       "      <td>112.590909</td>\n",
       "      <td>110.921569</td>\n",
       "    </tr>\n",
       "    <tr>\n",
       "      <th>2B</th>\n",
       "      <td>16.513514</td>\n",
       "      <td>21.833333</td>\n",
       "      <td>22.659091</td>\n",
       "      <td>24.872340</td>\n",
       "      <td>24.707317</td>\n",
       "      <td>22.611111</td>\n",
       "      <td>21.613636</td>\n",
       "      <td>21.490196</td>\n",
       "    </tr>\n",
       "    <tr>\n",
       "      <th>3B</th>\n",
       "      <td>1.081081</td>\n",
       "      <td>1.604167</td>\n",
       "      <td>2.727273</td>\n",
       "      <td>1.957447</td>\n",
       "      <td>2.902439</td>\n",
       "      <td>2.425926</td>\n",
       "      <td>3.795455</td>\n",
       "      <td>2.686275</td>\n",
       "    </tr>\n",
       "    <tr>\n",
       "      <th>HR</th>\n",
       "      <td>11.216216</td>\n",
       "      <td>18.062500</td>\n",
       "      <td>12.772727</td>\n",
       "      <td>17.170213</td>\n",
       "      <td>14.219512</td>\n",
       "      <td>15.185185</td>\n",
       "      <td>13.704545</td>\n",
       "      <td>16.137255</td>\n",
       "    </tr>\n",
       "    <tr>\n",
       "      <th>BB</th>\n",
       "      <td>30.864865</td>\n",
       "      <td>47.895833</td>\n",
       "      <td>38.227273</td>\n",
       "      <td>43.276596</td>\n",
       "      <td>35.926829</td>\n",
       "      <td>45.666667</td>\n",
       "      <td>44.659091</td>\n",
       "      <td>44.176471</td>\n",
       "    </tr>\n",
       "    <tr>\n",
       "      <th>HBP</th>\n",
       "      <td>6.000000</td>\n",
       "      <td>4.770833</td>\n",
       "      <td>4.204545</td>\n",
       "      <td>5.276596</td>\n",
       "      <td>4.439024</td>\n",
       "      <td>5.222222</td>\n",
       "      <td>5.795455</td>\n",
       "      <td>4.627451</td>\n",
       "    </tr>\n",
       "    <tr>\n",
       "      <th>SB</th>\n",
       "      <td>1.270270</td>\n",
       "      <td>2.895833</td>\n",
       "      <td>8.704545</td>\n",
       "      <td>4.127660</td>\n",
       "      <td>10.756098</td>\n",
       "      <td>6.574074</td>\n",
       "      <td>13.477273</td>\n",
       "      <td>6.921569</td>\n",
       "    </tr>\n",
       "    <tr>\n",
       "      <th>CS</th>\n",
       "      <td>1.027027</td>\n",
       "      <td>1.229167</td>\n",
       "      <td>3.272727</td>\n",
       "      <td>1.808511</td>\n",
       "      <td>4.292683</td>\n",
       "      <td>2.666667</td>\n",
       "      <td>4.772727</td>\n",
       "      <td>2.803922</td>\n",
       "    </tr>\n",
       "    <tr>\n",
       "      <th>score</th>\n",
       "      <td>391.140541</td>\n",
       "      <td>577.716667</td>\n",
       "      <td>543.495455</td>\n",
       "      <td>585.461702</td>\n",
       "      <td>563.602439</td>\n",
       "      <td>571.357407</td>\n",
       "      <td>567.161364</td>\n",
       "      <td>577.078431</td>\n",
       "    </tr>\n",
       "    <tr>\n",
       "      <th>dollar/point</th>\n",
       "      <td>0.033620</td>\n",
       "      <td>0.022762</td>\n",
       "      <td>0.024195</td>\n",
       "      <td>0.022461</td>\n",
       "      <td>0.023332</td>\n",
       "      <td>0.023015</td>\n",
       "      <td>0.023186</td>\n",
       "      <td>0.022787</td>\n",
       "    </tr>\n",
       "  </tbody>\n",
       "</table>\n",
       "</div>"
      ],
      "text/plain": [
       "                       C          1B          2B          3B          SS  \\\n",
       "AB            336.918919  429.041667  439.931818  427.595745  458.268293   \n",
       "H              81.864865  107.937500  115.613636  110.702128  119.731707   \n",
       "2B             16.513514   21.833333   22.659091   24.872340   24.707317   \n",
       "3B              1.081081    1.604167    2.727273    1.957447    2.902439   \n",
       "HR             11.216216   18.062500   12.772727   17.170213   14.219512   \n",
       "BB             30.864865   47.895833   38.227273   43.276596   35.926829   \n",
       "HBP             6.000000    4.770833    4.204545    5.276596    4.439024   \n",
       "SB              1.270270    2.895833    8.704545    4.127660   10.756098   \n",
       "CS              1.027027    1.229167    3.272727    1.808511    4.292683   \n",
       "score         391.140541  577.716667  543.495455  585.461702  563.602439   \n",
       "dollar/point    0.033620    0.022762    0.024195    0.022461    0.023332   \n",
       "\n",
       "                      RF          CF          LF  \n",
       "AB            407.259259  440.090909  425.117647  \n",
       "H             106.925926  112.590909  110.921569  \n",
       "2B             22.611111   21.613636   21.490196  \n",
       "3B              2.425926    3.795455    2.686275  \n",
       "HR             15.185185   13.704545   16.137255  \n",
       "BB             45.666667   44.659091   44.176471  \n",
       "HBP             5.222222    5.795455    4.627451  \n",
       "SB              6.574074   13.477273    6.921569  \n",
       "CS              2.666667    4.772727    2.803922  \n",
       "score         571.357407  567.161364  577.078431  \n",
       "dollar/point    0.023015    0.023186    0.022787  "
      ]
     },
     "execution_count": 2,
     "metadata": {},
     "output_type": "execute_result"
    }
   ],
   "source": [
    "avg_C_stats = pd.DataFrame({\"C\": (C_data[['AB', 'H','2B', '3B', 'HR', 'BB', 'HBP', 'SB', 'CS' ]].mean())})\n",
    "avg_1B_stats = pd.DataFrame({\"1B\": (B1_data[['AB', 'H','2B', '3B', 'HR', 'BB', 'HBP', 'SB', 'CS' ]].mean())})\n",
    "avg_2B_stats = pd.DataFrame({\"2B\": (B2_data[['AB', 'H','2B', '3B', 'HR', 'BB', 'HBP', 'SB', 'CS' ]].mean())})\n",
    "avg_3B_stats = pd.DataFrame({\"3B\": B3_data[['AB', 'H','2B', '3B', 'HR', 'BB', 'HBP', 'SB', 'CS' ]].mean()})\n",
    "avg_SS_stats = pd.DataFrame({\"SS\": SS_data[['AB', 'H','2B', '3B', 'HR', 'BB', 'HBP', 'SB', 'CS' ]].mean()})\n",
    "avg_RF_stats = pd.DataFrame({\"RF\": (RF_data[['AB', 'H','2B', '3B', 'HR', 'BB', 'HBP', 'SB', 'CS' ]].mean())})\n",
    "avg_CF_stats = pd.DataFrame({\"CF\": (CF_data[['AB', 'H','2B', '3B', 'HR', 'BB', 'HBP', 'SB', 'CS' ]].mean())})\n",
    "avg_LF_stats = pd.DataFrame({\"LF\": (LF_data[['AB', 'H','2B', '3B', 'HR', 'BB', 'HBP', 'SB', 'CS' ]].mean())})\n",
    "avg_SP_stats = pd.DataFrame({\"SP\": SP_data[['IP', 'SO','BB', 'HBP', 'HR', 'SV', 'HLD']].mean()})\n",
    "avg_RP_stats = pd.DataFrame({\"RP\": RP_data[['IP', 'SO','BB', 'HBP', 'HR', 'SV', 'HLD']].mean()})\n",
    "\n",
    "avg_stats = pd.concat([avg_C_stats, avg_1B_stats, avg_2B_stats, avg_3B_stats, avg_SS_stats], axis=1)\n",
    "avg_stats2 = pd.concat([avg_RF_stats, avg_CF_stats, avg_LF_stats], axis=1)\n",
    "avg_stats_batters = pd.concat([avg_stats, avg_stats2], axis=1)\n",
    "avg_stats_batters.loc['score'] = (avg_stats_batters.loc['AB'] * (-1)) + (avg_stats_batters.loc['H'] * 5.6) + (avg_stats_batters.loc['2B'] * 2.9) + (avg_stats_batters.loc['3B'] * 5.7) + (avg_stats_batters.loc['HR'] * 9.4) + (avg_stats_batters.loc['BB'] * 3.0) + (avg_stats_batters.loc['HBP'] * 3.0) + (avg_stats_batters.loc['SB'] * 1.9) + (avg_stats_batters.loc['CS'] * (-2.8))\n",
    "avg_stats_batters.loc['dollar/point'] = 13.15 / avg_stats_batters.loc['score']\n",
    "print(\"Average Stats for Batters of Specific Positions\")\n",
    "avg_stats_batters"
   ]
  },
  {
   "cell_type": "code",
   "execution_count": 3,
   "metadata": {},
   "outputs": [
    {
     "name": "stdout",
     "output_type": "stream",
     "text": [
      "Average Stats for Starting Pitchers and Relief Pitchers\n"
     ]
    },
    {
     "data": {
      "text/html": [
       "<div>\n",
       "<style scoped>\n",
       "    .dataframe tbody tr th:only-of-type {\n",
       "        vertical-align: middle;\n",
       "    }\n",
       "\n",
       "    .dataframe tbody tr th {\n",
       "        vertical-align: top;\n",
       "    }\n",
       "\n",
       "    .dataframe thead th {\n",
       "        text-align: right;\n",
       "    }\n",
       "</style>\n",
       "<table border=\"1\" class=\"dataframe\">\n",
       "  <thead>\n",
       "    <tr style=\"text-align: right;\">\n",
       "      <th></th>\n",
       "      <th>SP</th>\n",
       "      <th>RP</th>\n",
       "    </tr>\n",
       "  </thead>\n",
       "  <tbody>\n",
       "    <tr>\n",
       "      <th>IP</th>\n",
       "      <td>183.055738</td>\n",
       "      <td>69.392135</td>\n",
       "    </tr>\n",
       "    <tr>\n",
       "      <th>SO</th>\n",
       "      <td>178.950820</td>\n",
       "      <td>73.134831</td>\n",
       "    </tr>\n",
       "    <tr>\n",
       "      <th>BB</th>\n",
       "      <td>54.967213</td>\n",
       "      <td>24.516854</td>\n",
       "    </tr>\n",
       "    <tr>\n",
       "      <th>HBP</th>\n",
       "      <td>7.262295</td>\n",
       "      <td>2.910112</td>\n",
       "    </tr>\n",
       "    <tr>\n",
       "      <th>HR</th>\n",
       "      <td>22.311475</td>\n",
       "      <td>6.820225</td>\n",
       "    </tr>\n",
       "    <tr>\n",
       "      <th>SV</th>\n",
       "      <td>0.000000</td>\n",
       "      <td>8.067416</td>\n",
       "    </tr>\n",
       "    <tr>\n",
       "      <th>HLD</th>\n",
       "      <td>0.000000</td>\n",
       "      <td>13.483146</td>\n",
       "    </tr>\n",
       "    <tr>\n",
       "      <th>score</th>\n",
       "      <td>796.442623</td>\n",
       "      <td>416.556180</td>\n",
       "    </tr>\n",
       "    <tr>\n",
       "      <th>dollar/point</th>\n",
       "      <td>0.016511</td>\n",
       "      <td>0.031568</td>\n",
       "    </tr>\n",
       "  </tbody>\n",
       "</table>\n",
       "</div>"
      ],
      "text/plain": [
       "                      SP          RP\n",
       "IP            183.055738   69.392135\n",
       "SO            178.950820   73.134831\n",
       "BB             54.967213   24.516854\n",
       "HBP             7.262295    2.910112\n",
       "HR             22.311475    6.820225\n",
       "SV              0.000000    8.067416\n",
       "HLD             0.000000   13.483146\n",
       "score         796.442623  416.556180\n",
       "dollar/point    0.016511    0.031568"
      ]
     },
     "execution_count": 3,
     "metadata": {},
     "output_type": "execute_result"
    }
   ],
   "source": [
    "avg_stats_pitchers = pd.concat([avg_SP_stats, avg_RP_stats], axis=1)\n",
    "avg_stats_pitchers.loc['score'] = (avg_stats_pitchers.loc['IP'] * 5) + (avg_stats_pitchers.loc['SO'] * 2) + (avg_stats_pitchers.loc['BB'] * (-3)) + (avg_stats_pitchers.loc['HBP'] * (-3)) + (avg_stats_pitchers.loc['HR'] * (-13)) + (avg_stats_pitchers.loc['SV'] * 5) + (avg_stats_pitchers.loc['HLD'] * 4)\n",
    "avg_stats_pitchers.loc['dollar/point'] = 13.15 / avg_stats_pitchers.loc['score']\n",
    "print(\"Average Stats for Starting Pitchers and Relief Pitchers\")\n",
    "avg_stats_pitchers"
   ]
  },
  {
   "cell_type": "markdown",
   "metadata": {},
   "source": [
    "The score row at the bottom of these data frames represents the average ESPN fantasy score for a player at that position last year. These scores would represent what a $13.15 player at that position would look like statistically.  \n",
    "\n",
    "Under that is the dollar/point row. This represents how many dollars an increase of one fantasy point at that position is worth, given that an average player is worth $13.15. "
   ]
  },
  {
   "cell_type": "code",
   "execution_count": 4,
   "metadata": {},
   "outputs": [],
   "source": [
    "C_total = pd.read_csv('Pos_total/C_total.csv')\n",
    "B1_total = pd.read_csv('Pos_total/1B_total.csv')\n",
    "B2_total = pd.read_csv('Pos_total/2B_total.csv')\n",
    "B3_total = pd.read_csv('Pos_total/3B_total.csv')\n",
    "SS_total = pd.read_csv('Pos_total/SS_total.csv')\n",
    "RF_total = pd.read_csv('Pos_total/RF_total.csv')\n",
    "CF_total = pd.read_csv('Pos_total/CF_total.csv')\n",
    "LF_total = pd.read_csv('Pos_total/LF_total.csv')\n",
    "SP_total = pd.read_csv('Pos_total/SP_total.csv')\n",
    "RP_total = pd.read_csv('Pos_total/RP_total.csv')"
   ]
  },
  {
   "cell_type": "code",
   "execution_count": 5,
   "metadata": {},
   "outputs": [],
   "source": [
    "def calc_dollars_batter(player_name, pos):\n",
    "    if pos == 'C':\n",
    "        pos_data = C_total\n",
    "    elif pos == '1B':\n",
    "        pos_data = B1_total\n",
    "    elif pos == '2B':\n",
    "        pos_data = B2_total\n",
    "    elif pos == '3B':\n",
    "        pos_data = B3_total\n",
    "    elif pos == 'SS':\n",
    "        pos_data = SS_total\n",
    "    elif pos == 'RF':\n",
    "        pos_data = RF_total\n",
    "    elif pos == 'CF':\n",
    "        pos_data = CF_total\n",
    "    elif pos == 'LF':\n",
    "        pos_data = LF_total\n",
    "    \n",
    "    player_data = pos_data.loc[pos_data['Name'] == player_name]\n",
    "    score = (player_data['AB'] * (-1)) + (player_data['H'] * 5.6) + (player_data['2B'] * 2.9) + (player_data['3B'] * 5.7) + (player_data['HR'] * 9.4) + (player_data['BB'] * 3.0) + (player_data['HBP'] * 3.0) + (player_data['SB'] * 1.9) + (player_data['CS'] * (-2.8))\n",
    "    point_diff = float(score - avg_stats_batters[pos]['score'])\n",
    "    if point_diff < 0:\n",
    "        return 13.15 - (abs(point_diff) * avg_stats_batters[pos]['dollar/point'])\n",
    "    elif point_diff > 0:\n",
    "        return 13.15 + (point_diff * avg_stats_batters[pos]['dollar/point'])\n",
    "    else:\n",
    "        return 13.15"
   ]
  },
  {
   "cell_type": "code",
   "execution_count": 6,
   "metadata": {},
   "outputs": [
    {
     "data": {
      "text/plain": [
       "28.91713196901635"
      ]
     },
     "execution_count": 6,
     "metadata": {},
     "output_type": "execute_result"
    }
   ],
   "source": [
    "calc_dollars_batter(\"Mike Trout\", \"CF\")"
   ]
  },
  {
   "cell_type": "code",
   "execution_count": 7,
   "metadata": {},
   "outputs": [],
   "source": [
    "def calc_dollars_pitcher(player_name, pos):\n",
    "    if pos == 'SP':\n",
    "        pos_data = SP_total\n",
    "    elif pos == 'RP':\n",
    "        pos_data = RP_total\n",
    "    \n",
    "    player_data = pos_data.loc[pos_data['Name'] == player_name]\n",
    "    score = (player_data['IP'] * 5) + (player_data['SO'] * 2) + (player_data['BB'] * (-3)) + (player_data['HBP'] * (-3)) + (player_data['HR'] * (-13)) + (player_data['SV'] * 5) + (player_data['HLD'] * 4)\n",
    "    point_diff = float(score - avg_stats_pitchers[pos]['score'])\n",
    "    if point_diff < 0:\n",
    "        return 13.15 - (abs(point_diff) * avg_stats_pitchers[pos]['dollar/point'])\n",
    "    elif point_diff > 0:\n",
    "        return 13.15 + (point_diff * avg_stats_pitchers[pos]['dollar/point'])\n",
    "    else:\n",
    "        return 13.15"
   ]
  },
  {
   "cell_type": "code",
   "execution_count": 8,
   "metadata": {},
   "outputs": [
    {
     "data": {
      "text/plain": [
       "16.13116830990264"
      ]
     },
     "execution_count": 8,
     "metadata": {},
     "output_type": "execute_result"
    }
   ],
   "source": [
    "calc_dollars_pitcher(\"Chris Sale\", \"SP\")"
   ]
  },
  {
   "cell_type": "markdown",
   "metadata": {},
   "source": [
    "## Introduction ##\n",
    "<p>\n",
    "    Looking at a players performance through the lens of statistics provides a different perspective than a subjective approach normally would. In order to guide our drafting strategty we decided to tabulate lists of what the average player in every position looks like statistically. This way we can look at the statistics of a specific player compared to an average player and guage how much they are worth in monetary terms based off of their statistics. We chose an approach like this because it will allow us to make monetarily intelligent decisions about what players we pick. If we bid for an above average player, we will know what that player is worth compared to other players statisically and will be able to bid accordingly without over-valuing or under-valuing a player. With a budget of 250 Dollars and 19 positions to fill our average player will need to cost roughly 13 dollars. \n",
    "</p>\n",
    "\n",
    "## Data and Statistics ##\n",
    "<p>\n",
    "    The first step in shaping our drafting strategy was to collect all of the relevant data and process what the average player in each position looks like statistically. In our data collection we only focused on the data points that were repesented in the overall scoring calculation for a player and we used data from the 2018 regular season. Those stats are AB, H, 2B, 3B, HR, BB, HBP, SB, and CS for batters and IP, SO, BB, HBP, HR, SV, and HLD for pitchers. We also only collected stats on batters with more than 250 plate appearances and pitchers with more than 160 innings pitched so that we our data would be representive of an average player with a significant amount of play time during the 2018 season. Below are our results of what an average player in every position will look like statsitically. The score row at the bottom of these data frames represents the average ESPN fantasy score for a player at that position last year. These scores would represent what a 13.15 Dollar player at that position would look like statistically. Under that is the dollar/point row. This represents how many dollars an increase of one fantasy point at that position is worth, given that an average player is worth 13.15.\n",
    "</p>"
   ]
  },
  {
   "cell_type": "code",
   "execution_count": 9,
   "metadata": {},
   "outputs": [
    {
     "data": {
      "text/html": [
       "<div>\n",
       "<style scoped>\n",
       "    .dataframe tbody tr th:only-of-type {\n",
       "        vertical-align: middle;\n",
       "    }\n",
       "\n",
       "    .dataframe tbody tr th {\n",
       "        vertical-align: top;\n",
       "    }\n",
       "\n",
       "    .dataframe thead th {\n",
       "        text-align: right;\n",
       "    }\n",
       "</style>\n",
       "<table border=\"1\" class=\"dataframe\">\n",
       "  <thead>\n",
       "    <tr style=\"text-align: right;\">\n",
       "      <th></th>\n",
       "      <th>C</th>\n",
       "      <th>1B</th>\n",
       "      <th>2B</th>\n",
       "      <th>3B</th>\n",
       "      <th>SS</th>\n",
       "      <th>RF</th>\n",
       "      <th>CF</th>\n",
       "      <th>LF</th>\n",
       "    </tr>\n",
       "  </thead>\n",
       "  <tbody>\n",
       "    <tr>\n",
       "      <th>AB</th>\n",
       "      <td>336.918919</td>\n",
       "      <td>429.041667</td>\n",
       "      <td>439.931818</td>\n",
       "      <td>427.595745</td>\n",
       "      <td>458.268293</td>\n",
       "      <td>407.259259</td>\n",
       "      <td>440.090909</td>\n",
       "      <td>425.117647</td>\n",
       "    </tr>\n",
       "    <tr>\n",
       "      <th>H</th>\n",
       "      <td>81.864865</td>\n",
       "      <td>107.937500</td>\n",
       "      <td>115.613636</td>\n",
       "      <td>110.702128</td>\n",
       "      <td>119.731707</td>\n",
       "      <td>106.925926</td>\n",
       "      <td>112.590909</td>\n",
       "      <td>110.921569</td>\n",
       "    </tr>\n",
       "    <tr>\n",
       "      <th>2B</th>\n",
       "      <td>16.513514</td>\n",
       "      <td>21.833333</td>\n",
       "      <td>22.659091</td>\n",
       "      <td>24.872340</td>\n",
       "      <td>24.707317</td>\n",
       "      <td>22.611111</td>\n",
       "      <td>21.613636</td>\n",
       "      <td>21.490196</td>\n",
       "    </tr>\n",
       "    <tr>\n",
       "      <th>3B</th>\n",
       "      <td>1.081081</td>\n",
       "      <td>1.604167</td>\n",
       "      <td>2.727273</td>\n",
       "      <td>1.957447</td>\n",
       "      <td>2.902439</td>\n",
       "      <td>2.425926</td>\n",
       "      <td>3.795455</td>\n",
       "      <td>2.686275</td>\n",
       "    </tr>\n",
       "    <tr>\n",
       "      <th>HR</th>\n",
       "      <td>11.216216</td>\n",
       "      <td>18.062500</td>\n",
       "      <td>12.772727</td>\n",
       "      <td>17.170213</td>\n",
       "      <td>14.219512</td>\n",
       "      <td>15.185185</td>\n",
       "      <td>13.704545</td>\n",
       "      <td>16.137255</td>\n",
       "    </tr>\n",
       "    <tr>\n",
       "      <th>BB</th>\n",
       "      <td>30.864865</td>\n",
       "      <td>47.895833</td>\n",
       "      <td>38.227273</td>\n",
       "      <td>43.276596</td>\n",
       "      <td>35.926829</td>\n",
       "      <td>45.666667</td>\n",
       "      <td>44.659091</td>\n",
       "      <td>44.176471</td>\n",
       "    </tr>\n",
       "    <tr>\n",
       "      <th>HBP</th>\n",
       "      <td>6.000000</td>\n",
       "      <td>4.770833</td>\n",
       "      <td>4.204545</td>\n",
       "      <td>5.276596</td>\n",
       "      <td>4.439024</td>\n",
       "      <td>5.222222</td>\n",
       "      <td>5.795455</td>\n",
       "      <td>4.627451</td>\n",
       "    </tr>\n",
       "    <tr>\n",
       "      <th>SB</th>\n",
       "      <td>1.270270</td>\n",
       "      <td>2.895833</td>\n",
       "      <td>8.704545</td>\n",
       "      <td>4.127660</td>\n",
       "      <td>10.756098</td>\n",
       "      <td>6.574074</td>\n",
       "      <td>13.477273</td>\n",
       "      <td>6.921569</td>\n",
       "    </tr>\n",
       "    <tr>\n",
       "      <th>CS</th>\n",
       "      <td>1.027027</td>\n",
       "      <td>1.229167</td>\n",
       "      <td>3.272727</td>\n",
       "      <td>1.808511</td>\n",
       "      <td>4.292683</td>\n",
       "      <td>2.666667</td>\n",
       "      <td>4.772727</td>\n",
       "      <td>2.803922</td>\n",
       "    </tr>\n",
       "    <tr>\n",
       "      <th>score</th>\n",
       "      <td>391.140541</td>\n",
       "      <td>577.716667</td>\n",
       "      <td>543.495455</td>\n",
       "      <td>585.461702</td>\n",
       "      <td>563.602439</td>\n",
       "      <td>571.357407</td>\n",
       "      <td>567.161364</td>\n",
       "      <td>577.078431</td>\n",
       "    </tr>\n",
       "    <tr>\n",
       "      <th>dollar/point</th>\n",
       "      <td>0.033620</td>\n",
       "      <td>0.022762</td>\n",
       "      <td>0.024195</td>\n",
       "      <td>0.022461</td>\n",
       "      <td>0.023332</td>\n",
       "      <td>0.023015</td>\n",
       "      <td>0.023186</td>\n",
       "      <td>0.022787</td>\n",
       "    </tr>\n",
       "  </tbody>\n",
       "</table>\n",
       "</div>"
      ],
      "text/plain": [
       "                       C          1B          2B          3B          SS  \\\n",
       "AB            336.918919  429.041667  439.931818  427.595745  458.268293   \n",
       "H              81.864865  107.937500  115.613636  110.702128  119.731707   \n",
       "2B             16.513514   21.833333   22.659091   24.872340   24.707317   \n",
       "3B              1.081081    1.604167    2.727273    1.957447    2.902439   \n",
       "HR             11.216216   18.062500   12.772727   17.170213   14.219512   \n",
       "BB             30.864865   47.895833   38.227273   43.276596   35.926829   \n",
       "HBP             6.000000    4.770833    4.204545    5.276596    4.439024   \n",
       "SB              1.270270    2.895833    8.704545    4.127660   10.756098   \n",
       "CS              1.027027    1.229167    3.272727    1.808511    4.292683   \n",
       "score         391.140541  577.716667  543.495455  585.461702  563.602439   \n",
       "dollar/point    0.033620    0.022762    0.024195    0.022461    0.023332   \n",
       "\n",
       "                      RF          CF          LF  \n",
       "AB            407.259259  440.090909  425.117647  \n",
       "H             106.925926  112.590909  110.921569  \n",
       "2B             22.611111   21.613636   21.490196  \n",
       "3B              2.425926    3.795455    2.686275  \n",
       "HR             15.185185   13.704545   16.137255  \n",
       "BB             45.666667   44.659091   44.176471  \n",
       "HBP             5.222222    5.795455    4.627451  \n",
       "SB              6.574074   13.477273    6.921569  \n",
       "CS              2.666667    4.772727    2.803922  \n",
       "score         571.357407  567.161364  577.078431  \n",
       "dollar/point    0.023015    0.023186    0.022787  "
      ]
     },
     "execution_count": 9,
     "metadata": {},
     "output_type": "execute_result"
    }
   ],
   "source": [
    "avg_stats_batters"
   ]
  },
  {
   "cell_type": "code",
   "execution_count": 10,
   "metadata": {},
   "outputs": [
    {
     "data": {
      "text/html": [
       "<div>\n",
       "<style scoped>\n",
       "    .dataframe tbody tr th:only-of-type {\n",
       "        vertical-align: middle;\n",
       "    }\n",
       "\n",
       "    .dataframe tbody tr th {\n",
       "        vertical-align: top;\n",
       "    }\n",
       "\n",
       "    .dataframe thead th {\n",
       "        text-align: right;\n",
       "    }\n",
       "</style>\n",
       "<table border=\"1\" class=\"dataframe\">\n",
       "  <thead>\n",
       "    <tr style=\"text-align: right;\">\n",
       "      <th></th>\n",
       "      <th>SP</th>\n",
       "      <th>RP</th>\n",
       "    </tr>\n",
       "  </thead>\n",
       "  <tbody>\n",
       "    <tr>\n",
       "      <th>IP</th>\n",
       "      <td>183.055738</td>\n",
       "      <td>69.392135</td>\n",
       "    </tr>\n",
       "    <tr>\n",
       "      <th>SO</th>\n",
       "      <td>178.950820</td>\n",
       "      <td>73.134831</td>\n",
       "    </tr>\n",
       "    <tr>\n",
       "      <th>BB</th>\n",
       "      <td>54.967213</td>\n",
       "      <td>24.516854</td>\n",
       "    </tr>\n",
       "    <tr>\n",
       "      <th>HBP</th>\n",
       "      <td>7.262295</td>\n",
       "      <td>2.910112</td>\n",
       "    </tr>\n",
       "    <tr>\n",
       "      <th>HR</th>\n",
       "      <td>22.311475</td>\n",
       "      <td>6.820225</td>\n",
       "    </tr>\n",
       "    <tr>\n",
       "      <th>SV</th>\n",
       "      <td>0.000000</td>\n",
       "      <td>8.067416</td>\n",
       "    </tr>\n",
       "    <tr>\n",
       "      <th>HLD</th>\n",
       "      <td>0.000000</td>\n",
       "      <td>13.483146</td>\n",
       "    </tr>\n",
       "    <tr>\n",
       "      <th>score</th>\n",
       "      <td>796.442623</td>\n",
       "      <td>416.556180</td>\n",
       "    </tr>\n",
       "    <tr>\n",
       "      <th>dollar/point</th>\n",
       "      <td>0.016511</td>\n",
       "      <td>0.031568</td>\n",
       "    </tr>\n",
       "  </tbody>\n",
       "</table>\n",
       "</div>"
      ],
      "text/plain": [
       "                      SP          RP\n",
       "IP            183.055738   69.392135\n",
       "SO            178.950820   73.134831\n",
       "BB             54.967213   24.516854\n",
       "HBP             7.262295    2.910112\n",
       "HR             22.311475    6.820225\n",
       "SV              0.000000    8.067416\n",
       "HLD             0.000000   13.483146\n",
       "score         796.442623  416.556180\n",
       "dollar/point    0.016511    0.031568"
      ]
     },
     "execution_count": 10,
     "metadata": {},
     "output_type": "execute_result"
    }
   ],
   "source": [
    "avg_stats_pitchers"
   ]
  },
  {
   "cell_type": "markdown",
   "metadata": {},
   "source": [
    "## Results ##\n",
    "<p>\n",
    "The results of this approach are slightly atypical because they do not point to a specific set of players for the ideal roster. Instead this approach leverages the fact that in an auction style draft a team is unlikely to get all of the players the planned out in advance, and our draft will let us evaluate players on the fly so we can see how much they are worth. To do this we have created functions that let us enter a player's name and position and the function will return a dollar amount of how much that player is worth based on how much above or below the average their statistics are. \n",
    "<p>"
   ]
  },
  {
   "cell_type": "code",
   "execution_count": 14,
   "metadata": {},
   "outputs": [
    {
     "name": "stdout",
     "output_type": "stream",
     "text": [
      "24.59469158729062\n",
      "16.13116830990264\n"
     ]
    }
   ],
   "source": [
    "print(calc_dollars_batter(\"Nolan Arenado\", \"3B\"))\n",
    "print(calc_dollars_pitcher(\"Chris Sale\", \"SP\"))"
   ]
  },
  {
   "cell_type": "markdown",
   "metadata": {},
   "source": [
    "Despite our on the fly drafting approach we have created a few rosters that are composed of statisically valuable players and how much we plan on paying for those players. Below are some of our sample rosters that would be suitable for a team based on our approach"
   ]
  },
  {
   "cell_type": "markdown",
   "metadata": {},
   "source": [
    "## Limitations ##\n",
    "<p>\n",
    "    This approach provides a solid foundation for quickly evaluating the monetary worth of a player on the fly, but that in and of itself has some limitations. By basing all of our decisions off the average player and how a player we are evaluating compares to the average player, we may miss opportunities to pay high amounts of money for star players who will go on to out perform what we estimate them to monetarily worth. This approach is also limited in the fact we must think and make decisions very quickly, and if we spend an above average amount of money on a player we will need to keep track of how much we have spent and buy below average players to make sure we can afford to fill all of our positions.\n",
    "</p>"
   ]
  }
 ],
 "metadata": {
  "kernelspec": {
   "display_name": "Python 3",
   "language": "python",
   "name": "python3"
  },
  "language_info": {
   "codemirror_mode": {
    "name": "ipython",
    "version": 3
   },
   "file_extension": ".py",
   "mimetype": "text/x-python",
   "name": "python",
   "nbconvert_exporter": "python",
   "pygments_lexer": "ipython3",
   "version": "3.6.5"
  }
 },
 "nbformat": 4,
 "nbformat_minor": 2
}
